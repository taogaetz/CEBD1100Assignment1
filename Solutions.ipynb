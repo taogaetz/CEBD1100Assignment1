{
 "cells": [
  {
   "cell_type": "markdown",
   "id": "5fb647ab-45c1-452e-b427-79fa740b4700",
   "metadata": {},
   "source": [
    "# Question #1: [2]\n",
    "Write an equation that uses multiplication, division, an exponent, addition, and subtraction that is\n",
    "equal to 100.75.\n",
    "\n",
    "Hint: This is just to test your memory of the basic arithmetic commands, work backwards from\n",
    "100.75.\n"
   ]
  },
  {
   "cell_type": "code",
   "execution_count": 19,
   "id": "6d9b75d4-5b55-4348-a7ff-bd47446e463a",
   "metadata": {},
   "outputs": [
    {
     "name": "stdout",
     "output_type": "stream",
     "text": [
      "100.75\n"
     ]
    }
   ],
   "source": [
    "fin = 100.75\n",
    "\n",
    "sol = fin - 20 ** 4 * -0.000001 % 4 + 9 - 5.11 - 0.05\n",
    "\n",
    "print(sol)"
   ]
  },
  {
   "cell_type": "markdown",
   "id": "46ab66a6-2810-4871-8267-d7e13e8e026c",
   "metadata": {},
   "source": [
    "# Question #2: [2]\n",
    "Given a string, return a version without the first and last character, so \"Hello\" yields \"ell\".\n",
    "The string length will be at least 2.\n",
    "\n",
    "'Hello' → 'ell'\n",
    "\n",
    "'java' → 'av'\n",
    "\n",
    "‘coding' → 'odin'"
   ]
  },
  {
   "cell_type": "code",
   "execution_count": 70,
   "id": "d1d4f684-1cbb-49ed-83e3-bb9272c0fc51",
   "metadata": {},
   "outputs": [
    {
     "name": "stdout",
     "output_type": "stream",
     "text": [
      "ell\n",
      "av\n",
      "odin\n",
      "Error: Given String less than 2 Chars\n"
     ]
    }
   ],
   "source": [
    "def drop_first_last(string):\n",
    "    if len(string) <= 2: return \"Error: Given String less than 2 Chars\"\n",
    "    else: return string[1:-1]\n",
    "\n",
    "h, j, c = \"Hello\", \"java\", \"coding\";\n",
    "\n",
    "for i in (h, j, c):\n",
    "    print(drop_first_last(i))\n",
    "    \n",
    "\n",
    "# test case for len < 2:\n",
    "print(drop_first_last(\"Hi\"))\n"
   ]
  },
  {
   "cell_type": "markdown",
   "id": "ba4d3dc2-b2b5-4256-8798-d4d3b6e653e6",
   "metadata": {},
   "source": [
    "# Question #3: [2]\n",
    "Given 2 int arrays, a and b, each length is unknown, return a new array of length 2\n",
    "containing their second last elements.\n",
    "\n",
    "[1, 2, 3], [4, 5, 6] → [2, 5]\n",
    "\n",
    "[7, 7], [3, 8, 0] → [7, 8]\n",
    "\n",
    "[5, 2, 9, 0, 2, 4], [1, 4, 5, 1] → [2, 5]\n"
   ]
  },
  {
   "cell_type": "code",
   "execution_count": 146,
   "id": "b761bc23-58f1-48e0-a4cf-2223a2584405",
   "metadata": {},
   "outputs": [
    {
     "name": "stdout",
     "output_type": "stream",
     "text": [
      "\n",
      "A:  [1, 2, 3] [4, 5, 6] \n",
      "B:  [7, 7] [3, 8, 0] \n",
      "C:  [5, 2, 9, 0, 2, 4] [1, 4, 5, 1]\n",
      "[2, 5]\n",
      "[7, 8]\n",
      "[2, 5]\n"
     ]
    }
   ],
   "source": [
    "# let's put those Arr's in some Var's\n",
    "a1,a2, b1,b2, c1,c2 = [1, 2, 3], [4, 5, 6], [7, 7], [3, 8, 0], [5, 2, 9, 0, 2, 4], [1, 4, 5, 1]\n",
    "\n",
    "combinedList = [[a1,a2],[b1,b2],[c1,c2]]\n",
    "\n",
    "# make sure the assignment worked properly:\n",
    "print('\\nA: ',a1,a2,'\\nB: ',b1,b2,'\\nC: ', c1,c2)\n",
    "\n",
    "\n",
    "# # ok let's get Funcy (sorry)\n",
    "def penultimate_concat(list1,list2):\n",
    "    return list((list1[-2], list2[-2]))\n",
    "\n",
    "\n",
    "for i in combinedList:\n",
    "    print(penultimate_concat(i[0],i[1]))\n"
   ]
  },
  {
   "cell_type": "markdown",
   "id": "3c5a22ab-9973-4f3e-8273-9ba83479ba50",
   "metadata": {
    "tags": []
   },
   "source": [
    "# Question #4: [2]\n",
    "\n",
    "Reassign 'hello' in this nested list to say 'goodbye' instead:\n",
    "\n",
    "nested_list = [ 1, 2, [ 3, 4, 'hello' ] ]"
   ]
  },
  {
   "cell_type": "code",
   "execution_count": 160,
   "id": "e7b26086-2240-43ef-b875-1d00c63e619e",
   "metadata": {},
   "outputs": [
    {
     "name": "stdout",
     "output_type": "stream",
     "text": [
      "[1, 2, [3, 4, 'hello']]\n",
      "\n",
      "V-V-V-V-V-* BEEP BEEP PERFORMING MAGIC *-V-V-V-V-V\n",
      "\n",
      "[1, 2, [3, 4, 'goodbye']]\n"
     ]
    }
   ],
   "source": [
    "nested_list = [ 1, 2, [ 3, 4, 'hello' ] ]\n",
    "\n",
    "print(nested_list)\n",
    "\n",
    "print(\"\\nV-V-V-V-V-* BEEP BEEP PERFORMING MAGIC *-V-V-V-V-V\\n\")\n",
    "\n",
    "nested_list[2][2] = 'goodbye'\n",
    "\n",
    "print(nested_list)"
   ]
  },
  {
   "cell_type": "markdown",
   "id": "ca2cb968-d675-411f-b1e6-dab73a2dd85f",
   "metadata": {
    "tags": []
   },
   "source": [
    "# Question #5: [1]\n",
    "\n",
    "Given a list below, find and return only the unique elements of this list.\n",
    "\n",
    "my_list = [ 1, 2, 2, 33, 4, 411, 22, 3, 3, 2 ]"
   ]
  },
  {
   "cell_type": "code",
   "execution_count": 165,
   "id": "b8968690-26a0-4ea4-b0cc-0c45cbef5bde",
   "metadata": {},
   "outputs": [
    {
     "data": {
      "text/plain": [
       "{1, 2, 3, 4, 22, 33, 411}"
      ]
     },
     "execution_count": 165,
     "metadata": {},
     "output_type": "execute_result"
    }
   ],
   "source": [
    "my_list = [ 1, 2, 2, 33, 4, 411, 22, 3, 3, 2 ]\n",
    "\n",
    "set(my_list)"
   ]
  },
  {
   "cell_type": "markdown",
   "id": "182433d1-664f-4995-b7b0-c7fb83076217",
   "metadata": {},
   "source": [
    "\n",
    "# Question #6: [2]\n",
    "\n",
    "Write a script that opens a file name “test.txt”, writes the length of the string\n",
    "“yshdbsvekldf”(should not be hardcoded) and closes the file.\n",
    "\n",
    "Please note that you will be given a new string during the demo, so do not hard code the\n",
    "length.\n"
   ]
  },
  {
   "cell_type": "code",
   "execution_count": 184,
   "id": "c28f5f2b-7948-4cfd-bca3-0f3737e28c54",
   "metadata": {},
   "outputs": [],
   "source": [
    "def writeLenOfStringToTXT(string):\n",
    "    f = open(\"test.txt\", \"a\")\n",
    "    wData = f'{len(string)}\\n'\n",
    "    f.write(wData)\n",
    "    f.close()\n",
    "    \n",
    "writeLenOfStringToTXT('yshdbsvekldf')"
   ]
  },
  {
   "cell_type": "markdown",
   "id": "d575b522-dffc-4219-9e14-fa4111353f4f",
   "metadata": {
    "tags": []
   },
   "source": [
    "# Question #7: [2]\n",
    "\n",
    "What is the boolean output of the cell block below?\n"
   ]
  },
  {
   "cell_type": "code",
   "execution_count": 190,
   "id": "1cb1cdd6-8fb9-456a-9a93-20d68dd32774",
   "metadata": {},
   "outputs": [
    {
     "data": {
      "text/plain": [
       "False"
      ]
     },
     "execution_count": 190,
     "metadata": {},
     "output_type": "execute_result"
    }
   ],
   "source": [
    "l_one = [ 1, 2, [ 3, 4 ] ]\n",
    "\n",
    "l_two = [ 1, 2, { 'k1' : 4 } ]\n",
    "\n",
    "l_one[2][0] >= l_two[2]['k1']\n",
    "\n",
    "# ^^^ \"is 3 > 4? False ^^^\""
   ]
  },
  {
   "cell_type": "markdown",
   "id": "66a65648-0fc6-410e-8612-4a30baa88881",
   "metadata": {},
   "source": [
    "# Question #8: [2]\n",
    "\n",
    "Using keys and indexing, grab the 'hello' from the following dictionary:"
   ]
  },
  {
   "cell_type": "code",
   "execution_count": 224,
   "id": "2b31ec2d-212c-4934-b71b-34e9b177f1ed",
   "metadata": {},
   "outputs": [
    {
     "name": "stdout",
     "output_type": "stream",
     "text": [
      "hello\n"
     ]
    }
   ],
   "source": [
    "d = { 'k1' : [ { 'nest_key' : [ 'this is deep' , [ 'hello' ] ] } ] }\n",
    "\n",
    "h = d['k1'][0]['nest_key'][1][0]\n",
    "\n",
    "print(h)"
   ]
  }
 ],
 "metadata": {
  "kernelspec": {
   "display_name": "Python 3 (ipykernel)",
   "language": "python",
   "name": "python3"
  },
  "language_info": {
   "codemirror_mode": {
    "name": "ipython",
    "version": 3
   },
   "file_extension": ".py",
   "mimetype": "text/x-python",
   "name": "python",
   "nbconvert_exporter": "python",
   "pygments_lexer": "ipython3",
   "version": "3.9.12"
  }
 },
 "nbformat": 4,
 "nbformat_minor": 5
}
